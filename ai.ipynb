{
 "cells": [
  {
   "cell_type": "code",
   "execution_count": null,
   "metadata": {},
   "outputs": [],
   "source": [
    "pip install SpeechRecognition\n"
   ]
  },
  {
   "cell_type": "code",
   "execution_count": null,
   "metadata": {},
   "outputs": [],
   "source": [
    "pip install twilio\n"
   ]
  },
  {
   "cell_type": "code",
   "execution_count": null,
   "metadata": {},
   "outputs": [
    {
     "name": "stdout",
     "output_type": "stream",
     "text": [
      "🎙 Speak now...\n",
      "✅ You said: help help help\n",
      "🚨 Emergency Detected: Keyword - HELP\n",
      "📞 Call initiated successfully. Call SID: CA7258e79307a9945a192be55f93bc93a0\n"
     ]
    }
   ],
   "source": [
    "import speech_recognition as sr\n",
    "from twilio.rest import Client\n",
    "\n",
    "# Emergency keywords\n",
    "emergency_keywords = ['help', 'danger', 'emergency']\n",
    "\n",
    "# Twilio setup (replace these with your actual credentials)\n",
    "account_sid = 'AC5220d581d44eba2bd74bb029595c0e37'\n",
    "auth_token = '9082860630ea4130577730f13cd36eb4'\n",
    "twilio_number = '+19842797413'         # Your Twilio number\n",
    "to_number = '+918600893816'         # Receiver's phone number (must be verified if you're using a trial account)\n",
    "\n",
    "client = Client(account_sid, auth_token)\n",
    "\n",
    "# Function to make an emergency call\n",
    "def make_emergency_call(keyword):\n",
    "    custom_message = f\"This is an emergency alert from the AI voice detection system. The keyword {keyword.upper()} was detected. Please respond immediately.\"\n",
    "\n",
    "    twiml_message = f\"\"\"\n",
    "    <Response>\n",
    "        <Say voice=\"alice\">{custom_message}</Say>\n",
    "    </Response>\n",
    "    \"\"\"\n",
    "\n",
    "    call = client.calls.create(\n",
    "        twiml=twiml_message,\n",
    "        to=to_number,\n",
    "        from_=twilio_number\n",
    "    )\n",
    "    print(\"📞 Call initiated successfully. Call SID:\", call.sid)\n",
    "\n",
    "# Voice recognition\n",
    "recognizer = sr.Recognizer()\n",
    "\n",
    "with sr.Microphone() as source:\n",
    "    print(\"🎙 Speak now...\")\n",
    "    audio = recognizer.listen(source)\n",
    "\n",
    "    try:\n",
    "        text = recognizer.recognize_google(audio).lower()\n",
    "        print(\"✅ You said:\", text)\n",
    "\n",
    "        for keyword in emergency_keywords:\n",
    "            if keyword in text:\n",
    "                print(\"🚨 Emergency Detected: Keyword -\", keyword.upper())\n",
    "                make_emergency_call(keyword)\n",
    "                break\n",
    "        else:\n",
    "            print(\"👍 No emergency keywords found.\")\n",
    "\n",
    "    except sr.UnknownValueError:\n",
    "        print(\"❌ Could not understand audio.\")\n",
    "    except sr.RequestError as e:\n",
    "        print(\"❌ Speech recognition API error:\", e)\n"
   ]
  },
  {
   "cell_type": "code",
   "execution_count": 25,
   "metadata": {},
   "outputs": [
    {
     "name": "stdout",
     "output_type": "stream",
     "text": [
      " * Serving Flask app '__main__'\n",
      " * Debug mode: on\n"
     ]
    },
    {
     "name": "stderr",
     "output_type": "stream",
     "text": [
      "WARNING: This is a development server. Do not use it in a production deployment. Use a production WSGI server instead.\n",
      " * Running on http://127.0.0.1:5000\n",
      "Press CTRL+C to quit\n",
      " * Restarting with watchdog (windowsapi)\n"
     ]
    },
    {
     "ename": "SystemExit",
     "evalue": "1",
     "output_type": "error",
     "traceback": [
      "An exception has occurred, use %tb to see the full traceback.\n",
      "\u001b[1;31mSystemExit\u001b[0m\u001b[1;31m:\u001b[0m 1\n"
     ]
    }
   ],
   "source": [
    "from flask import Flask, render_template\n",
    "import speech_recognition as sr\n",
    "from twilio.rest import Client\n",
    "\n",
    "app = Flask(__name__)\n",
    "\n",
    "# Emergency keywords\n",
    "emergency_keywords = ['help', 'danger', 'emergency']\n",
    "\n",
    "# Twilio setup\n",
    "account_sid = 'AC5220d581d44eba2bd74bb029595c0e37'\n",
    "auth_token = '9082860630ea4130577730f13cd36eb4'\n",
    "twilio_number = '+19842797413'\n",
    "to_number = '+918600893816'\n",
    "\n",
    "client = Client(account_sid, auth_token)\n",
    "\n",
    "# Function to make a call\n",
    "def make_emergency_call(keyword):\n",
    "    custom_message = f\"This is an emergency alert from the AI voice detection system. The keyword {keyword.upper()} was detected. Please respond immediately.\"\n",
    "    twiml_message = f\"\"\"\n",
    "    <Response>\n",
    "        <Say voice=\"alice\">{custom_message}</Say>\n",
    "    </Response>\n",
    "    \"\"\"\n",
    "    call = client.calls.create(\n",
    "        twiml=twiml_message,\n",
    "        to=to_number,\n",
    "        from_=twilio_number\n",
    "    )\n",
    "    print(\"📞 Call initiated successfully. Call SID:\", call.sid)\n",
    "\n",
    "@app.route('/')\n",
    "def index():\n",
    "    return render_template('alertzone.html')  # HTML UI with trigger button\n",
    "\n",
    "@app.route('/trigger-alert')\n",
    "def trigger_alert():\n",
    "    recognizer = sr.Recognizer()\n",
    "    with sr.Microphone() as source:\n",
    "        print(\"🎙 Listening...\")\n",
    "        audio = recognizer.listen(source)\n",
    "\n",
    "    try:\n",
    "        text = recognizer.recognize_google(audio).lower()\n",
    "        print(\"✅ You said:\", text)\n",
    "\n",
    "        for keyword in emergency_keywords:\n",
    "            if keyword in text:\n",
    "                print(\"🚨 Emergency Detected:\", keyword.upper())\n",
    "                make_emergency_call(keyword)\n",
    "                return f\"🚨 Emergency keyword '{keyword.upper()}' detected. Call initiated!\"\n",
    "        return \"✅ No emergency keywords found.\"\n",
    "\n",
    "    except sr.UnknownValueError:\n",
    "        return \"❌ Could not understand audio.\"\n",
    "    except sr.RequestError as e:\n",
    "        return f\"❌ Speech Recognition error: {e}\"\n",
    "\n",
    "if __name__ == '__main__':\n",
    "    app.run(debug=True)\n"
   ]
  }
 ],
 "metadata": {
  "kernelspec": {
   "display_name": "base",
   "language": "python",
   "name": "python3"
  },
  "language_info": {
   "codemirror_mode": {
    "name": "ipython",
    "version": 3
   },
   "file_extension": ".py",
   "mimetype": "text/x-python",
   "name": "python",
   "nbconvert_exporter": "python",
   "pygments_lexer": "ipython3",
   "version": "3.12.4"
  }
 },
 "nbformat": 4,
 "nbformat_minor": 2
}
